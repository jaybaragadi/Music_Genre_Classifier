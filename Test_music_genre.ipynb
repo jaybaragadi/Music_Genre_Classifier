import os
import librosa
import numpy as np
import tensorflow as tf
import matplotlib.pyplot as plt
import seaborn as sns
from tensorflow.keras.optimizers import Adam
from tensorflow.image import resize
import streamlit as st

model = tf.keras.models.load_model("Trained_model.h5")

classes = ['blues', 'classical','country','disco','hiphop','metal','pop','reggae','rock']

# Load and preprocess audio data
def load_and_preprocess_data(file_path, target_shape=(150, 150)):
    data = []
    audio_data, sample_rate = librosa.load(file_path, sr=None)
    # preprocessing (convert to Mel spectrogram and resize)
    chunk_duration = 4  # seconds
    overlap_duration = 2  # seconds
                
    #  durations to samples
    chunk_samples = chunk_duration * sample_rate
    overlap_samples = overlap_duration * sample_rate
                
    
    num_chunks = int(np.ceil((len(audio_data) - chunk_samples) / (chunk_samples - overlap_samples))) + 1
                
    
    for i in range(num_chunks):
        start = i * (chunk_samples - overlap_samples)
        end = start + chunk_samples
                    
        chunk = audio_data[start:end]
                    
                    # Mel spectrogram for the chunk
        mel_spectrogram = librosa.feature.melspectrogram(y=chunk, sr=sample_rate)
                    
        mel_spectrogram = resize(np.expand_dims(mel_spectrogram, axis=-1), target_shape)
        data.append(mel_spectrogram)
    
    return np.array(data)



from IPython.display import Audio
file_path = "./[iSongs.info] 01 - Botany.mp3"
y, sr = librosa.load(file_path, sr=44100)
Audio(data=y, rate=sr)

#testfile
X_test=load_and_preprocess_data(file_path)


# Prediction
def model_prediction (X_test):
    y_pred=model.predict(X_test)
    predicted_categories = np.argmax(y_pred, axis=1)
    unique_elements, counts = np.unique(predicted_categories, return_counts=True)
    #print(unique_elements, counts)
    max_count = np.max(counts)
    max_elements=unique_elements[counts == max_count]
    return max_elements[0]


c_index=model_prediction (X_test)
print(f"Model Prediction Music Genre --> {classes [c_index]}")
